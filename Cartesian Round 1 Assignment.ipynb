{
 "cells": [
  {
   "cell_type": "markdown",
   "id": "71e894d8",
   "metadata": {},
   "source": [
    "<H1>\n",
    "Python Programming\n",
    "<H1>"
   ]
  },
  {
   "cell_type": "code",
   "execution_count": 5,
   "id": "97035f1b",
   "metadata": {},
   "outputs": [
    {
     "name": "stdout",
     "output_type": "stream",
     "text": [
      "This declaration represents a political commitment among declaration partners to advance a positive vision for the Internet in this era of a united europe\n",
      "europe united a of era this in Internet the for vision positive a advance to partners declaration among commitment political a represents declaration This\n",
      "a : 3 times\n",
      "declaration : 2 times\n"
     ]
    }
   ],
   "source": [
    "from statistics import mode\n",
    "string = input()\n",
    "word = string.split()[::-1]\n",
    "Reverse = []\n",
    "for i in word:\n",
    "    Reverse.append(i)\n",
    "print(\" \".join(Reverse))\n",
    "temp = [word for sub in Reverse for word in sub.split()]\n",
    "print(mode(temp),':',str(Reverse.count(mode(temp))),'times')\n",
    "temp = [i for i in temp if i != mode(temp)]\n",
    "print(mode(temp),':',str(Reverse.count(mode(temp))),'times')"
   ]
  },
  {
   "cell_type": "markdown",
   "id": "84aef16a",
   "metadata": {},
   "source": [
    "<H1>\n",
    "Assignment-01 SQL\n",
    "<H1>"
   ]
  },
  {
   "cell_type": "code",
   "execution_count": null,
   "id": "7f298006",
   "metadata": {},
   "outputs": [],
   "source": [
    "CREATE DATABASE dataset\n",
    "use dataset\n",
    "CREATE TABLE sales_detail(Cat_Id ,Product_Id ,Trending)\n",
    "INSERT INTO sales_detail VALUES\n",
    "('1' ,'100','1'),\n",
    "('1' ,'200','2'),\n",
    "('2' ,'300','1'),\n",
    "('2' ,'301','2'),\n",
    "('3' ,'401','1'),\n",
    "('3' ,'402','2'),\n",
    "('4' ,'500','1'),\n",
    "('4' ,'502','2'),\n",
    "('5' ,'600','1'),\n",
    "('5' ,'601','2')\n",
    "SELECT * FROM sales_detail  \n",
    "ORDER BY Cat_Id DESC\n",
    "ORDER BY Cat_Id ASC"
   ]
  },
  {
   "cell_type": "markdown",
   "id": "83f02dec",
   "metadata": {},
   "source": [
    "<H1>\n",
    "Assignment-02 SQL\n",
    "<H1>"
   ]
  },
  {
   "cell_type": "code",
   "execution_count": null,
   "id": "829e3d65",
   "metadata": {},
   "outputs": [],
   "source": [
    "CREATE TABLE Customer (Customer_Id varchar(255));\n",
    "INSERT INTO Customer VALUES('Customer_Id'),('Abhinash'),('Vipin'),('Mahesh'),('Bijoy'),('Bhabani'),('Ashutosh')\n",
    "    \n",
    "CREATE TABLE Voucher (Voucher_Id varchar(255) UNIQUE);\n",
    "INSERT INTO Voucher VALUES('ABXFH'),('SDFGH'),('ERTYY'),('PPLKM')\n",
    "    \n",
    "with cte \n",
    "as(select *,row_number() over(order by Customer_Id) row from Customer)\n",
    "cte2 as(select *,row_number() over(order by Voucher_Id) row from Voucher)\n",
    "    \n",
    "select Customer_Id Customer_Key,Voucher_Id Gift_Voucher_Key\n",
    "from cte c1\n",
    "join cte2 c2 on c1.row=c2.row"
   ]
  },
  {
   "cell_type": "markdown",
   "id": "741a6d5a",
   "metadata": {},
   "source": [
    "<H1>\n",
    "Assignment-02 UNIX\n",
    "<H1>"
   ]
  },
  {
   "cell_type": "code",
   "execution_count": null,
   "id": "66d1994c",
   "metadata": {},
   "outputs": [],
   "source": [
    "mkdir grocery\n",
    "cd grocery\n",
    "pwd\n",
    "cat purchase_history_02Jan21.txt\n",
    "cat purchase_history_03Jan21.txt \n",
    "cat purchase_history_31Jan21.txt \n",
    "cat purchase_history_02Jan21.txt purchase_history_03Jan21.txt purchase_history_31Jan21.txt >>purchase_history_JanAll.txt"
   ]
  },
  {
   "cell_type": "markdown",
   "id": "7b67afe7",
   "metadata": {},
   "source": [
    "<H1>\n",
    "Assignment-01 UNIX\n",
    "<H1>"
   ]
  },
  {
   "cell_type": "code",
   "execution_count": null,
   "id": "d464e85c",
   "metadata": {},
   "outputs": [],
   "source": [
    "product_name,\n",
    "customer,\n",
    "date,\n",
    "category,\n",
    "amt\n",
    "Nylon Y Neck, Ramesh, 2020-01-02, Shirt,799.00\n",
    "Nylon Z Neck, Rajesh, 2020-01-02, Shirt,899.00\n",
    "Nylon Z Neck, Rajesh, 2020-01-03, Shirt,699.00\n",
    "Nylon V Neck, Rakesh, 2020-01-02, Shirt,799.00\n",
    "\n"
   ]
  }
 ],
 "metadata": {
  "kernelspec": {
   "display_name": "Python 3 (ipykernel)",
   "language": "python",
   "name": "python3"
  },
  "language_info": {
   "codemirror_mode": {
    "name": "ipython",
    "version": 3
   },
   "file_extension": ".py",
   "mimetype": "text/x-python",
   "name": "python",
   "nbconvert_exporter": "python",
   "pygments_lexer": "ipython3",
   "version": "3.9.7"
  }
 },
 "nbformat": 4,
 "nbformat_minor": 5
}
